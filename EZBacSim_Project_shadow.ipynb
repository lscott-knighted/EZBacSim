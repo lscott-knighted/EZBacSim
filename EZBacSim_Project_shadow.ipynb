{
  "nbformat": 4,
  "nbformat_minor": 0,
  "metadata": {
    "colab": {
      "provenance": [],
      "authorship_tag": "ABX9TyMFBW+vPUF3NX9Xm2y6wn0D",
      "include_colab_link": true
    },
    "kernelspec": {
      "name": "python3",
      "display_name": "Python 3"
    }
  },
  "cells": [
    {
      "cell_type": "markdown",
      "metadata": {
        "id": "view-in-github",
        "colab_type": "text"
      },
      "source": [
        "<a href=\"https://colab.research.google.com/github/lscott-knighted/EZBacSim/blob/main/EZBacSim_Project_shadow.ipynb\" target=\"_parent\"><img src=\"https://colab.research.google.com/assets/colab-badge.svg\" alt=\"Open In Colab\"/></a>"
      ]
    },
    {
      "cell_type": "code",
      "metadata": {
        "id": "t5WZslS1sdGc"
      },
      "source": [
        "# Imports: Random for shuffling, pandas for dataframes, time/tqdm for a useful\n",
        "# progress bar during the number crunching. Seaborn for pretty graphs.\n",
        "import random\n",
        "import pandas as pd\n",
        "import time\n",
        "from tqdm import tqdm\n",
        "import seaborn as sns\n",
        "\n",
        "# Define cards, decks, shoes.\n",
        "a = 1\n",
        "j = q = k = 10\n",
        "cards = ['a', '2', '3', '4', '5', '6', '7', '8', '9', '10', 'j', 'q', 'k']\n",
        "deck = cards * 4\n",
        "shoe = deck * 8\n",
        "\n",
        "# Define Burn Values\n",
        "burn_vals = {\n",
        "    'a': 1,\n",
        "    '2': 2,\n",
        "    '3': 3,\n",
        "    '4': 4,\n",
        "    '5': 5,\n",
        "    '6': 6,\n",
        "    '7': 7,\n",
        "    '8': 8,\n",
        "    '9': 9,\n",
        "    '10': 10,\n",
        "    'j': 1,\n",
        "    'q': 2,\n",
        "    'k': 3\n",
        "}\n",
        "\n",
        "# Define banker hit matrix. By calling the matrix later of [banker hand value][player hit card value]\n",
        "# we can determine whether or not the banker hand should be hitting.\n",
        "banker_hit_matrix = [[1,1,1,1,1,1,1,1,1,1], #0 hits on everything\n",
        "                    [1,1,1,1,1,1,1,1,1,1], # 1 hits on everything\n",
        "                    [1,1,1,1,1,1,1,1,1,1], # 2 hits on everything\n",
        "                    [1,1,1,1,1,1,1,1,0,1], # 3 hits on everything except an 8\n",
        "                    [0,0,1,1,1,1,1,1,0,0], # 4 hits on 2-7\n",
        "                    [0,0,0,0,1,1,1,1,0,0], # 5 hits on 4-7\n",
        "                    [0,0,0,0,0,0,1,1,0,0], # 6 hits on 6 and 7\n",
        "                    [0,0,0,0,0,0,0,0,0,0], # 7 doesn't hit\n",
        "                    [0,0,0,0,0,0,0,0,0,0], # 8 doesn't hit\n",
        "                    [0,0,0,0,0,0,0,0,0,0]] # 9 doesn't hit\n",
        "\n",
        "# Build initial dataframe.\n",
        "column_titles = ['Total Hands', 'Player Wins', 'Banker Wins', 'Pandas', 'Dragon', 'Ties', 'Longest Player Line', 'Longest Banker Line']\n",
        "#df = pd.DataFrame(columns = column_titles)"
      ],
      "execution_count": null,
      "outputs": []
    },
    {
      "cell_type": "code",
      "metadata": {
        "id": "tvNBgfm2sfGs",
        "colab": {
          "base_uri": "https://localhost:8080/"
        },
        "outputId": "a98cb097-6d11-4fe1-face-8220bedfb6e9"
      },
      "source": [
        "append_data = []\n",
        "reps = 500000 # Define count of shoes to simulate.\n",
        "\n",
        "# Deal each shoe as a run through this loop.\n",
        "for i in tqdm(range(reps)):\n",
        "    # Shuffle the shoe.\n",
        "    random.shuffle(shoe)\n",
        "\n",
        "    # Define starting values.\n",
        "    longest_player_streak = 0\n",
        "    longest_banker_streak = 0\n",
        "    current_player_streak = 0\n",
        "    current_banker_streak = 0\n",
        "    player_win = 0\n",
        "    banker_win = 0\n",
        "    dragon = 0\n",
        "    panda = 0\n",
        "    tie = 0\n",
        "    hands = 0\n",
        "    p3 = '10'\n",
        "\n",
        "    # We will navigate through the shoe by iterating an index within the shoe everytime we 'deal' a card.\n",
        "    # This has the side effect that we could store the order of the shoe as a variable for analysis on\n",
        "    # if dragons/pandas had some sort of correlation with weird shoe orders.\n",
        "    idx_shoe = 0\n",
        "\n",
        "    # Look at burn card, 'remove' cards from front accordingly.\n",
        "    idx_shoe = idx_shoe + 1 + burn_vals[shoe[0]]\n",
        "\n",
        "    # Burn between 1-2 decks from the back of the shoe by defining a 'maximum index' to halt the\n",
        "    # dealing loop once we're past our 'cut card'.\n",
        "    max_idx = len(shoe) - random.randint(52,104)\n",
        "\n",
        "    # Deal out the hands of the shoe.\n",
        "    while(idx_shoe < max_idx):\n",
        "      # reset the player and banker_hit conditionals. These change when either player or banker side hits a 3rd card.\n",
        "      player_hit = False\n",
        "      banker_hit = False\n",
        "\n",
        "      # deal the first four cards to player and banker sides, alternating between them, and then iterate over the idx of the shoe to the next card\n",
        "      p1 = shoe[idx_shoe]\n",
        "      idx_shoe+=1\n",
        "      b1 = shoe[idx_shoe]\n",
        "      idx_shoe+=1\n",
        "      p2 = shoe[idx_shoe]\n",
        "      idx_shoe+=1\n",
        "      b2 = shoe[idx_shoe]\n",
        "      idx_shoe+=1\n",
        "\n",
        "      # calculate initial hand values. Has handy effect of resetting hand values from last hand as well.\n",
        "      player_score = (eval(p1) + eval(p2))%10\n",
        "      banker_score = (eval(b1) + eval(b2))%10\n",
        "\n",
        "      # Naturals and natural ties are handled with subsequent logic. Essentially, we arrive at a natural state\n",
        "      # when we don't meet the conditions to hit any of the 3rd cards.\n",
        "\n",
        "      # Handle player hitting for 3rd card. Will only hit when player_score is less than 5\n",
        "      # (avoids hitting on player naturals as part of that rule) and also when banker is less than 8 (avoids hitting on banker naturals).\n",
        "      if player_score <= 5 and banker_score < 8:\n",
        "          player_hit = True\n",
        "          p3 = shoe[idx_shoe]\n",
        "          idx_shoe+=1\n",
        "          player_score += eval(p3)\n",
        "          player_score %= 10\n",
        "\n",
        "      # Handle banker hitting for 3rd card.\n",
        "\n",
        "      # When player has hit for a 3rd card. Avoids hitting on player naturals via player_hit conditional.\n",
        "      # Using player_hit conditional also avoids hitting based on a p3 value from the previous loop.\n",
        "      if player_hit and banker_hit_matrix[banker_score][eval(p3)%10] == 1:\n",
        "          banker_hit = True\n",
        "          b3 = shoe[idx_shoe]\n",
        "          idx_shoe += 1\n",
        "          banker_score += eval(b3)\n",
        "          banker_score %= 10\n",
        "\n",
        "      # and when player does not take 3rd card - avoids hitting on banker and player natural. Conditional for not banker_hit\n",
        "      # avoids hitting where banker takes a 3rd card per above loop and ends up with a value less than 6.\n",
        "      if not banker_hit and not player_hit and banker_score <= 5 and player_score < 8:\n",
        "          banker_hit = True\n",
        "          b3 = shoe[idx_shoe]\n",
        "          idx_shoe += 1\n",
        "          banker_score += eval(b3)\n",
        "          banker_score %= 10\n",
        "\n",
        "      # Compare final scores, determine winner. Top levels are banker or player winning and tie,\n",
        "      # with nested statements for panda and dragon as special categories under their respective sides.\n",
        "\n",
        "      #todo: add in calculation for longest banker/player line in a given shoe\n",
        "\n",
        "      if player_score > banker_score:\n",
        "          player_win += 1\n",
        "          current_player_streak += 1\n",
        "          current_banker_streak = 0\n",
        "          # Conditions for Panda - avoids counting tie as a panda by being beneath player>banker.\n",
        "          if player_score == 8 and player_hit:\n",
        "              panda += 1\n",
        "      if banker_score > player_score:\n",
        "          banker_win += 1\n",
        "          current_banker_streak += 1\n",
        "          current_player_streak = 0\n",
        "          # Conditions for Dragon - 3 card 7 for banker winning.\n",
        "          # avoids counting tie as a dragon by being beneath banker>player.\n",
        "          if banker_score == 7 and banker_hit:\n",
        "              dragon += 1\n",
        "              banker_win -= 1 # Banker bets push when dragon wins.\n",
        "      if banker_score == player_score:\n",
        "          tie += 1\n",
        "          last_hand_result = 'tie'\n",
        "      if current_banker_streak > longest_banker_streak:\n",
        "        longest_banker_streak = current_banker_streak\n",
        "      if current_player_streak > longest_player_streak:\n",
        "        longest_player_streak = current_player_streak\n",
        "\n",
        "\n",
        "      # Iterate hand counter for final data tracking.\n",
        "      hands+=1\n",
        "\n",
        "\n",
        "    # Record shoe results.\n",
        "    to_add = [hands, player_win, banker_win, panda, dragon, tie, longest_player_streak, longest_banker_streak]\n",
        "    append_data.append(to_add)\n",
        "df = pd.DataFrame.from_dict(append_data)\n",
        "df.columns = ['TotalHands', 'PlayerWins', 'BankerWins', 'Pandas', 'Dragon', 'Ties', 'Longest Player Line', 'Longest Banker Line']"
      ],
      "execution_count": null,
      "outputs": [
        {
          "output_type": "stream",
          "name": "stderr",
          "text": [
            "100%|██████████| 500000/500000 [21:20<00:00, 390.42it/s]\n"
          ]
        }
      ]
    },
    {
      "cell_type": "code",
      "metadata": {
        "id": "HNVfBj7RJn-S",
        "colab": {
          "base_uri": "https://localhost:8080/",
          "height": 300
        },
        "outputId": "46a6c7e3-e349-432c-ceec-ea7fbd41cf28"
      },
      "source": [
        "# Add some useful columns, and plot out the .describe() of our results.\n",
        "df = df.astype('int32')\n",
        "df['Playerchance'] = df.PlayerWins/df['TotalHands']\n",
        "df['Bankerchance'] = df.BankerWins/df['TotalHands']\n",
        "df['DragonChance'] = df.Dragon/df['TotalHands']\n",
        "df['PandaChance'] = df.Pandas/df['TotalHands']\n",
        "df['Tiechance'] = df.Ties/df['TotalHands']\n",
        "df.describe()"
      ],
      "execution_count": null,
      "outputs": [
        {
          "output_type": "execute_result",
          "data": {
            "text/plain": [
              "          TotalHands     PlayerWins     BankerWins         Pandas  \\\n",
              "count  500000.000000  500000.000000  500000.000000  500000.000000   \n",
              "mean       67.696886      30.210200      29.518266       2.338626   \n",
              "std         3.444861       4.355339       4.391876       1.494243   \n",
              "min        57.000000      12.000000      11.000000       0.000000   \n",
              "25%        65.000000      27.000000      27.000000       1.000000   \n",
              "50%        68.000000      30.000000      29.000000       2.000000   \n",
              "75%        70.000000      33.000000      32.000000       3.000000   \n",
              "max        79.000000      49.000000      50.000000      12.000000   \n",
              "\n",
              "              Dragon           Ties  Longest Player Line  Longest Banker Line  \\\n",
              "count  500000.000000  500000.000000        500000.000000        500000.000000   \n",
              "mean        1.526266       6.442154             5.198134             5.388036   \n",
              "std         1.216134       2.430425             1.722328             1.791913   \n",
              "min         0.000000       0.000000             1.000000             1.000000   \n",
              "25%         1.000000       5.000000             4.000000             4.000000   \n",
              "50%         1.000000       6.000000             5.000000             5.000000   \n",
              "75%         2.000000       8.000000             6.000000             6.000000   \n",
              "max        10.000000      20.000000            24.000000            23.000000   \n",
              "\n",
              "        Playerchance   Bankerchance   DragonChance    PandaChance  \\\n",
              "count  500000.000000  500000.000000  500000.000000  500000.000000   \n",
              "mean        0.446283       0.435941       0.022601       0.034620   \n",
              "std         0.060474       0.060357       0.018065       0.022194   \n",
              "min         0.171429       0.174603       0.000000       0.000000   \n",
              "25%         0.405797       0.394366       0.013889       0.015385   \n",
              "50%         0.446154       0.435484       0.015625       0.030303   \n",
              "75%         0.485714       0.476923       0.030769       0.046154   \n",
              "max         0.707692       0.727273       0.147059       0.181818   \n",
              "\n",
              "           Tiechance  \n",
              "count  500000.000000  \n",
              "mean        0.095175  \n",
              "std         0.035662  \n",
              "min         0.000000  \n",
              "25%         0.070423  \n",
              "50%         0.093750  \n",
              "75%         0.117647  \n",
              "max         0.301587  "
            ],
            "text/html": [
              "\n",
              "  <div id=\"df-4e30eb39-d9b9-43a9-90cb-18919a54dc95\" class=\"colab-df-container\">\n",
              "    <div>\n",
              "<style scoped>\n",
              "    .dataframe tbody tr th:only-of-type {\n",
              "        vertical-align: middle;\n",
              "    }\n",
              "\n",
              "    .dataframe tbody tr th {\n",
              "        vertical-align: top;\n",
              "    }\n",
              "\n",
              "    .dataframe thead th {\n",
              "        text-align: right;\n",
              "    }\n",
              "</style>\n",
              "<table border=\"1\" class=\"dataframe\">\n",
              "  <thead>\n",
              "    <tr style=\"text-align: right;\">\n",
              "      <th></th>\n",
              "      <th>TotalHands</th>\n",
              "      <th>PlayerWins</th>\n",
              "      <th>BankerWins</th>\n",
              "      <th>Pandas</th>\n",
              "      <th>Dragon</th>\n",
              "      <th>Ties</th>\n",
              "      <th>Longest Player Line</th>\n",
              "      <th>Longest Banker Line</th>\n",
              "      <th>Playerchance</th>\n",
              "      <th>Bankerchance</th>\n",
              "      <th>DragonChance</th>\n",
              "      <th>PandaChance</th>\n",
              "      <th>Tiechance</th>\n",
              "    </tr>\n",
              "  </thead>\n",
              "  <tbody>\n",
              "    <tr>\n",
              "      <th>count</th>\n",
              "      <td>500000.000000</td>\n",
              "      <td>500000.000000</td>\n",
              "      <td>500000.000000</td>\n",
              "      <td>500000.000000</td>\n",
              "      <td>500000.000000</td>\n",
              "      <td>500000.000000</td>\n",
              "      <td>500000.000000</td>\n",
              "      <td>500000.000000</td>\n",
              "      <td>500000.000000</td>\n",
              "      <td>500000.000000</td>\n",
              "      <td>500000.000000</td>\n",
              "      <td>500000.000000</td>\n",
              "      <td>500000.000000</td>\n",
              "    </tr>\n",
              "    <tr>\n",
              "      <th>mean</th>\n",
              "      <td>67.696886</td>\n",
              "      <td>30.210200</td>\n",
              "      <td>29.518266</td>\n",
              "      <td>2.338626</td>\n",
              "      <td>1.526266</td>\n",
              "      <td>6.442154</td>\n",
              "      <td>5.198134</td>\n",
              "      <td>5.388036</td>\n",
              "      <td>0.446283</td>\n",
              "      <td>0.435941</td>\n",
              "      <td>0.022601</td>\n",
              "      <td>0.034620</td>\n",
              "      <td>0.095175</td>\n",
              "    </tr>\n",
              "    <tr>\n",
              "      <th>std</th>\n",
              "      <td>3.444861</td>\n",
              "      <td>4.355339</td>\n",
              "      <td>4.391876</td>\n",
              "      <td>1.494243</td>\n",
              "      <td>1.216134</td>\n",
              "      <td>2.430425</td>\n",
              "      <td>1.722328</td>\n",
              "      <td>1.791913</td>\n",
              "      <td>0.060474</td>\n",
              "      <td>0.060357</td>\n",
              "      <td>0.018065</td>\n",
              "      <td>0.022194</td>\n",
              "      <td>0.035662</td>\n",
              "    </tr>\n",
              "    <tr>\n",
              "      <th>min</th>\n",
              "      <td>57.000000</td>\n",
              "      <td>12.000000</td>\n",
              "      <td>11.000000</td>\n",
              "      <td>0.000000</td>\n",
              "      <td>0.000000</td>\n",
              "      <td>0.000000</td>\n",
              "      <td>1.000000</td>\n",
              "      <td>1.000000</td>\n",
              "      <td>0.171429</td>\n",
              "      <td>0.174603</td>\n",
              "      <td>0.000000</td>\n",
              "      <td>0.000000</td>\n",
              "      <td>0.000000</td>\n",
              "    </tr>\n",
              "    <tr>\n",
              "      <th>25%</th>\n",
              "      <td>65.000000</td>\n",
              "      <td>27.000000</td>\n",
              "      <td>27.000000</td>\n",
              "      <td>1.000000</td>\n",
              "      <td>1.000000</td>\n",
              "      <td>5.000000</td>\n",
              "      <td>4.000000</td>\n",
              "      <td>4.000000</td>\n",
              "      <td>0.405797</td>\n",
              "      <td>0.394366</td>\n",
              "      <td>0.013889</td>\n",
              "      <td>0.015385</td>\n",
              "      <td>0.070423</td>\n",
              "    </tr>\n",
              "    <tr>\n",
              "      <th>50%</th>\n",
              "      <td>68.000000</td>\n",
              "      <td>30.000000</td>\n",
              "      <td>29.000000</td>\n",
              "      <td>2.000000</td>\n",
              "      <td>1.000000</td>\n",
              "      <td>6.000000</td>\n",
              "      <td>5.000000</td>\n",
              "      <td>5.000000</td>\n",
              "      <td>0.446154</td>\n",
              "      <td>0.435484</td>\n",
              "      <td>0.015625</td>\n",
              "      <td>0.030303</td>\n",
              "      <td>0.093750</td>\n",
              "    </tr>\n",
              "    <tr>\n",
              "      <th>75%</th>\n",
              "      <td>70.000000</td>\n",
              "      <td>33.000000</td>\n",
              "      <td>32.000000</td>\n",
              "      <td>3.000000</td>\n",
              "      <td>2.000000</td>\n",
              "      <td>8.000000</td>\n",
              "      <td>6.000000</td>\n",
              "      <td>6.000000</td>\n",
              "      <td>0.485714</td>\n",
              "      <td>0.476923</td>\n",
              "      <td>0.030769</td>\n",
              "      <td>0.046154</td>\n",
              "      <td>0.117647</td>\n",
              "    </tr>\n",
              "    <tr>\n",
              "      <th>max</th>\n",
              "      <td>79.000000</td>\n",
              "      <td>49.000000</td>\n",
              "      <td>50.000000</td>\n",
              "      <td>12.000000</td>\n",
              "      <td>10.000000</td>\n",
              "      <td>20.000000</td>\n",
              "      <td>24.000000</td>\n",
              "      <td>23.000000</td>\n",
              "      <td>0.707692</td>\n",
              "      <td>0.727273</td>\n",
              "      <td>0.147059</td>\n",
              "      <td>0.181818</td>\n",
              "      <td>0.301587</td>\n",
              "    </tr>\n",
              "  </tbody>\n",
              "</table>\n",
              "</div>\n",
              "    <div class=\"colab-df-buttons\">\n",
              "\n",
              "  <div class=\"colab-df-container\">\n",
              "    <button class=\"colab-df-convert\" onclick=\"convertToInteractive('df-4e30eb39-d9b9-43a9-90cb-18919a54dc95')\"\n",
              "            title=\"Convert this dataframe to an interactive table.\"\n",
              "            style=\"display:none;\">\n",
              "\n",
              "  <svg xmlns=\"http://www.w3.org/2000/svg\" height=\"24px\" viewBox=\"0 -960 960 960\">\n",
              "    <path d=\"M120-120v-720h720v720H120Zm60-500h600v-160H180v160Zm220 220h160v-160H400v160Zm0 220h160v-160H400v160ZM180-400h160v-160H180v160Zm440 0h160v-160H620v160ZM180-180h160v-160H180v160Zm440 0h160v-160H620v160Z\"/>\n",
              "  </svg>\n",
              "    </button>\n",
              "\n",
              "  <style>\n",
              "    .colab-df-container {\n",
              "      display:flex;\n",
              "      gap: 12px;\n",
              "    }\n",
              "\n",
              "    .colab-df-convert {\n",
              "      background-color: #E8F0FE;\n",
              "      border: none;\n",
              "      border-radius: 50%;\n",
              "      cursor: pointer;\n",
              "      display: none;\n",
              "      fill: #1967D2;\n",
              "      height: 32px;\n",
              "      padding: 0 0 0 0;\n",
              "      width: 32px;\n",
              "    }\n",
              "\n",
              "    .colab-df-convert:hover {\n",
              "      background-color: #E2EBFA;\n",
              "      box-shadow: 0px 1px 2px rgba(60, 64, 67, 0.3), 0px 1px 3px 1px rgba(60, 64, 67, 0.15);\n",
              "      fill: #174EA6;\n",
              "    }\n",
              "\n",
              "    .colab-df-buttons div {\n",
              "      margin-bottom: 4px;\n",
              "    }\n",
              "\n",
              "    [theme=dark] .colab-df-convert {\n",
              "      background-color: #3B4455;\n",
              "      fill: #D2E3FC;\n",
              "    }\n",
              "\n",
              "    [theme=dark] .colab-df-convert:hover {\n",
              "      background-color: #434B5C;\n",
              "      box-shadow: 0px 1px 3px 1px rgba(0, 0, 0, 0.15);\n",
              "      filter: drop-shadow(0px 1px 2px rgba(0, 0, 0, 0.3));\n",
              "      fill: #FFFFFF;\n",
              "    }\n",
              "  </style>\n",
              "\n",
              "    <script>\n",
              "      const buttonEl =\n",
              "        document.querySelector('#df-4e30eb39-d9b9-43a9-90cb-18919a54dc95 button.colab-df-convert');\n",
              "      buttonEl.style.display =\n",
              "        google.colab.kernel.accessAllowed ? 'block' : 'none';\n",
              "\n",
              "      async function convertToInteractive(key) {\n",
              "        const element = document.querySelector('#df-4e30eb39-d9b9-43a9-90cb-18919a54dc95');\n",
              "        const dataTable =\n",
              "          await google.colab.kernel.invokeFunction('convertToInteractive',\n",
              "                                                    [key], {});\n",
              "        if (!dataTable) return;\n",
              "\n",
              "        const docLinkHtml = 'Like what you see? Visit the ' +\n",
              "          '<a target=\"_blank\" href=https://colab.research.google.com/notebooks/data_table.ipynb>data table notebook</a>'\n",
              "          + ' to learn more about interactive tables.';\n",
              "        element.innerHTML = '';\n",
              "        dataTable['output_type'] = 'display_data';\n",
              "        await google.colab.output.renderOutput(dataTable, element);\n",
              "        const docLink = document.createElement('div');\n",
              "        docLink.innerHTML = docLinkHtml;\n",
              "        element.appendChild(docLink);\n",
              "      }\n",
              "    </script>\n",
              "  </div>\n",
              "\n",
              "\n",
              "<div id=\"df-57b7fc41-4966-4ef7-ad77-49ba72447cd0\">\n",
              "  <button class=\"colab-df-quickchart\" onclick=\"quickchart('df-57b7fc41-4966-4ef7-ad77-49ba72447cd0')\"\n",
              "            title=\"Suggest charts\"\n",
              "            style=\"display:none;\">\n",
              "\n",
              "<svg xmlns=\"http://www.w3.org/2000/svg\" height=\"24px\"viewBox=\"0 0 24 24\"\n",
              "     width=\"24px\">\n",
              "    <g>\n",
              "        <path d=\"M19 3H5c-1.1 0-2 .9-2 2v14c0 1.1.9 2 2 2h14c1.1 0 2-.9 2-2V5c0-1.1-.9-2-2-2zM9 17H7v-7h2v7zm4 0h-2V7h2v10zm4 0h-2v-4h2v4z\"/>\n",
              "    </g>\n",
              "</svg>\n",
              "  </button>\n",
              "\n",
              "<style>\n",
              "  .colab-df-quickchart {\n",
              "      --bg-color: #E8F0FE;\n",
              "      --fill-color: #1967D2;\n",
              "      --hover-bg-color: #E2EBFA;\n",
              "      --hover-fill-color: #174EA6;\n",
              "      --disabled-fill-color: #AAA;\n",
              "      --disabled-bg-color: #DDD;\n",
              "  }\n",
              "\n",
              "  [theme=dark] .colab-df-quickchart {\n",
              "      --bg-color: #3B4455;\n",
              "      --fill-color: #D2E3FC;\n",
              "      --hover-bg-color: #434B5C;\n",
              "      --hover-fill-color: #FFFFFF;\n",
              "      --disabled-bg-color: #3B4455;\n",
              "      --disabled-fill-color: #666;\n",
              "  }\n",
              "\n",
              "  .colab-df-quickchart {\n",
              "    background-color: var(--bg-color);\n",
              "    border: none;\n",
              "    border-radius: 50%;\n",
              "    cursor: pointer;\n",
              "    display: none;\n",
              "    fill: var(--fill-color);\n",
              "    height: 32px;\n",
              "    padding: 0;\n",
              "    width: 32px;\n",
              "  }\n",
              "\n",
              "  .colab-df-quickchart:hover {\n",
              "    background-color: var(--hover-bg-color);\n",
              "    box-shadow: 0 1px 2px rgba(60, 64, 67, 0.3), 0 1px 3px 1px rgba(60, 64, 67, 0.15);\n",
              "    fill: var(--button-hover-fill-color);\n",
              "  }\n",
              "\n",
              "  .colab-df-quickchart-complete:disabled,\n",
              "  .colab-df-quickchart-complete:disabled:hover {\n",
              "    background-color: var(--disabled-bg-color);\n",
              "    fill: var(--disabled-fill-color);\n",
              "    box-shadow: none;\n",
              "  }\n",
              "\n",
              "  .colab-df-spinner {\n",
              "    border: 2px solid var(--fill-color);\n",
              "    border-color: transparent;\n",
              "    border-bottom-color: var(--fill-color);\n",
              "    animation:\n",
              "      spin 1s steps(1) infinite;\n",
              "  }\n",
              "\n",
              "  @keyframes spin {\n",
              "    0% {\n",
              "      border-color: transparent;\n",
              "      border-bottom-color: var(--fill-color);\n",
              "      border-left-color: var(--fill-color);\n",
              "    }\n",
              "    20% {\n",
              "      border-color: transparent;\n",
              "      border-left-color: var(--fill-color);\n",
              "      border-top-color: var(--fill-color);\n",
              "    }\n",
              "    30% {\n",
              "      border-color: transparent;\n",
              "      border-left-color: var(--fill-color);\n",
              "      border-top-color: var(--fill-color);\n",
              "      border-right-color: var(--fill-color);\n",
              "    }\n",
              "    40% {\n",
              "      border-color: transparent;\n",
              "      border-right-color: var(--fill-color);\n",
              "      border-top-color: var(--fill-color);\n",
              "    }\n",
              "    60% {\n",
              "      border-color: transparent;\n",
              "      border-right-color: var(--fill-color);\n",
              "    }\n",
              "    80% {\n",
              "      border-color: transparent;\n",
              "      border-right-color: var(--fill-color);\n",
              "      border-bottom-color: var(--fill-color);\n",
              "    }\n",
              "    90% {\n",
              "      border-color: transparent;\n",
              "      border-bottom-color: var(--fill-color);\n",
              "    }\n",
              "  }\n",
              "</style>\n",
              "\n",
              "  <script>\n",
              "    async function quickchart(key) {\n",
              "      const quickchartButtonEl =\n",
              "        document.querySelector('#' + key + ' button');\n",
              "      quickchartButtonEl.disabled = true;  // To prevent multiple clicks.\n",
              "      quickchartButtonEl.classList.add('colab-df-spinner');\n",
              "      try {\n",
              "        const charts = await google.colab.kernel.invokeFunction(\n",
              "            'suggestCharts', [key], {});\n",
              "      } catch (error) {\n",
              "        console.error('Error during call to suggestCharts:', error);\n",
              "      }\n",
              "      quickchartButtonEl.classList.remove('colab-df-spinner');\n",
              "      quickchartButtonEl.classList.add('colab-df-quickchart-complete');\n",
              "    }\n",
              "    (() => {\n",
              "      let quickchartButtonEl =\n",
              "        document.querySelector('#df-57b7fc41-4966-4ef7-ad77-49ba72447cd0 button');\n",
              "      quickchartButtonEl.style.display =\n",
              "        google.colab.kernel.accessAllowed ? 'block' : 'none';\n",
              "    })();\n",
              "  </script>\n",
              "</div>\n",
              "    </div>\n",
              "  </div>\n"
            ]
          },
          "metadata": {},
          "execution_count": 3
        }
      ]
    },
    {
      "cell_type": "code",
      "metadata": {
        "id": "ScmKR6BXoDFw",
        "colab": {
          "base_uri": "https://localhost:8080/",
          "height": 449
        },
        "outputId": "52d9309c-eb3e-4a6f-d2bb-e5668db70859"
      },
      "source": [
        "# Graph of total hands/shoe.\n",
        "ax = sns.countplot(x=\"TotalHands\", data = df)"
      ],
      "execution_count": null,
      "outputs": [
        {
          "output_type": "display_data",
          "data": {
            "text/plain": [
              "<Figure size 640x480 with 1 Axes>"
            ],
            "image/png": "[encoded data removed]"
          },
          "metadata": {}
        }
      ]
    },
    {
      "cell_type": "code",
      "metadata": {
        "id": "R7i0dUlKEiJd",
        "colab": {
          "base_uri": "https://localhost:8080/"
        },
        "outputId": "4a85ee6e-b223-4cae-e8d5-d348cae74ca0"
      },
      "source": [
        "# Pandas/Shoe\n",
        "df.Pandas.value_counts(sort = False)"
      ],
      "execution_count": null,
      "outputs": [
        {
          "output_type": "execute_result",
          "data": {
            "text/plain": [
              "6      10061\n",
              "5      27521\n",
              "1     111786\n",
              "2     134552\n",
              "4      60821\n",
              "0      45640\n",
              "3     105397\n",
              "8        821\n",
              "7       3132\n",
              "9        216\n",
              "10        43\n",
              "11         9\n",
              "12         1\n",
              "Name: Pandas, dtype: int64"
            ]
          },
          "metadata": {},
          "execution_count": 5
        }
      ]
    },
    {
      "cell_type": "code",
      "metadata": {
        "id": "AIiMZ-ABSTl4",
        "colab": {
          "base_uri": "https://localhost:8080/",
          "height": 452
        },
        "outputId": "3df9a1a1-285f-461b-dbe7-b2b0d1c0608e"
      },
      "source": [
        "ax = sns.countplot (x=\"Pandas\", data = df)"
      ],
      "execution_count": null,
      "outputs": [
        {
          "output_type": "display_data",
          "data": {
            "text/plain": [
              "<Figure size 640x480 with 1 Axes>"
            ],
            "image/png": "[encoded data removed]"
          },
          "metadata": {}
        }
      ]
    },
    {
      "cell_type": "code",
      "metadata": {
        "id": "E-RE5lksl1bZ",
        "colab": {
          "base_uri": "https://localhost:8080/"
        },
        "outputId": "a30d638d-a6be-4a08-d912-71a9185280df"
      },
      "source": [
        "# Counts of dragons/shoe.\n",
        "df.Dragon.value_counts(sort = False)"
      ],
      "execution_count": null,
      "outputs": [
        {
          "output_type": "execute_result",
          "data": {
            "text/plain": [
              "2     128476\n",
              "1     167265\n",
              "4      24043\n",
              "3      65233\n",
              "0     106073\n",
              "5       6866\n",
              "7        304\n",
              "6       1672\n",
              "8         58\n",
              "9          9\n",
              "10         1\n",
              "Name: Dragon, dtype: int64"
            ]
          },
          "metadata": {},
          "execution_count": 7
        }
      ]
    },
    {
      "cell_type": "code",
      "metadata": {
        "id": "d7nkDa5kSgTT",
        "colab": {
          "base_uri": "https://localhost:8080/",
          "height": 449
        },
        "outputId": "53f13d68-a718-40fa-ae70-957bd9a149ab"
      },
      "source": [
        "ax = sns.countplot (x=\"Dragon\", data = df)"
      ],
      "execution_count": null,
      "outputs": [
        {
          "output_type": "display_data",
          "data": {
            "text/plain": [
              "<Figure size 640x480 with 1 Axes>"
            ],
            "image/png": "[encoded data removed]"
          },
          "metadata": {}
        }
      ]
    },
    {
      "cell_type": "code",
      "metadata": {
        "id": "yY7SuGxfFO-K",
        "colab": {
          "base_uri": "https://localhost:8080/",
          "height": 449
        },
        "outputId": "70fd9544-f2b1-4ad1-ac4b-a5925020ad0a"
      },
      "source": [
        "ax = sns.countplot (x=\"PlayerWins\", data = df)"
      ],
      "execution_count": null,
      "outputs": [
        {
          "output_type": "display_data",
          "data": {
            "text/plain": [
              "<Figure size 640x480 with 1 Axes>"
            ],
            "image/png": "[encoded data removed]"
          },
          "metadata": {}
        }
      ]
    },
    {
      "cell_type": "code",
      "metadata": {
        "id": "pJRzOroGFU50",
        "colab": {
          "base_uri": "https://localhost:8080/",
          "height": 449
        },
        "outputId": "72ea0602-1cb6-4c89-c105-ab1037e2911e"
      },
      "source": [
        "ax = sns.countplot (x=\"BankerWins\", data = df)"
      ],
      "execution_count": null,
      "outputs": [
        {
          "output_type": "display_data",
          "data": {
            "text/plain": [
              "<Figure size 640x480 with 1 Axes>"
            ],
            "image/png": "[encoded data removed]"
          },
          "metadata": {}
        }
      ]
    },
    {
      "cell_type": "code",
      "metadata": {
        "id": "F6nZVNh-FrUo",
        "colab": {
          "base_uri": "https://localhost:8080/"
        },
        "outputId": "cedf1958-484c-4871-da98-146b1f6804f5"
      },
      "source": [
        "# Total hands run.\n",
        "df['TotalHands'].sum()"
      ],
      "execution_count": null,
      "outputs": [
        {
          "output_type": "execute_result",
          "data": {
            "text/plain": [
              "33848443"
            ]
          },
          "metadata": {},
          "execution_count": 11
        }
      ]
    },
    {
      "cell_type": "code",
      "metadata": {
        "id": "-LOIVa2ixxvg",
        "colab": {
          "base_uri": "https://localhost:8080/",
          "height": 449
        },
        "outputId": "821da2cc-07d2-4d50-f98c-2921670dd44c"
      },
      "source": [
        "ax = sns.countplot (x = \"Longest Banker Line\", data = df)"
      ],
      "execution_count": null,
      "outputs": [
        {
          "output_type": "display_data",
          "data": {
            "text/plain": [
              "<Figure size 640x480 with 1 Axes>"
            ],
            "image/png": "[encoded data removed]"
          },
          "metadata": {}
        }
      ]
    },
    {
      "cell_type": "code",
      "metadata": {
        "id": "6XNYdWTjimXU",
        "colab": {
          "base_uri": "https://localhost:8080/",
          "height": 449
        },
        "outputId": "a40fa0dc-2d89-4814-c5ca-929525cc2612"
      },
      "source": [
        "ax = sns.countplot (x = \"Longest Player Line\", data = df)"
      ],
      "execution_count": null,
      "outputs": [
        {
          "output_type": "display_data",
          "data": {
            "text/plain": [
              "<Figure size 640x480 with 1 Axes>"
            ],
            "image/png": "[encoded data removed]"
          },
          "metadata": {}
        }
      ]
    },
    {
      "cell_type": "code",
      "metadata": {
        "id": "RI5UWFep2cpe",
        "colab": {
          "base_uri": "https://localhost:8080/"
        },
        "outputId": "1ab53f1c-4df7-43e2-8ab7-a19d2b50ab36"
      },
      "source": [
        "df.value_counts(subset = 'Longest Banker Line', sort = False)"
      ],
      "execution_count": null,
      "outputs": [
        {
          "output_type": "execute_result",
          "data": {
            "text/plain": [
              "Longest Banker Line\n",
              "1          2\n",
              "2       2990\n",
              "3      48980\n",
              "4     122176\n",
              "5     127255\n",
              "6      89326\n",
              "7      52294\n",
              "8      27831\n",
              "9      14553\n",
              "10      7318\n",
              "11      3653\n",
              "12      1805\n",
              "13       898\n",
              "14       449\n",
              "15       234\n",
              "16       135\n",
              "17        42\n",
              "18        31\n",
              "19        16\n",
              "20         7\n",
              "21         2\n",
              "22         2\n",
              "23         1\n",
              "dtype: int64"
            ]
          },
          "metadata": {},
          "execution_count": 14
        }
      ]
    },
    {
      "cell_type": "code",
      "metadata": {
        "id": "SotaJLEV3Mvr",
        "colab": {
          "base_uri": "https://localhost:8080/"
        },
        "outputId": "38e685c3-ccff-49d3-b5b7-18153358b29c"
      },
      "source": [
        "df.value_counts(subset = 'Longest Player Line', sort = False)"
      ],
      "execution_count": null,
      "outputs": [
        {
          "output_type": "execute_result",
          "data": {
            "text/plain": [
              "Longest Player Line\n",
              "1          3\n",
              "2       4284\n",
              "3      59265\n",
              "4     132453\n",
              "5     126979\n",
              "6      83268\n",
              "7      46776\n",
              "8      23806\n",
              "9      11870\n",
              "10      5748\n",
              "11      2860\n",
              "12      1406\n",
              "13       674\n",
              "14       299\n",
              "15       160\n",
              "16        75\n",
              "17        38\n",
              "18        22\n",
              "19        10\n",
              "20         3\n",
              "24         1\n",
              "dtype: int64"
            ]
          },
          "metadata": {},
          "execution_count": 15
        }
      ]
    },
    {
      "cell_type": "code",
      "metadata": {
        "id": "RNyI3a263rZL",
        "colab": {
          "base_uri": "https://localhost:8080/"
        },
        "outputId": "bab97206-5b33-4f1d-8c92-a010391e6a6c"
      },
      "source": [
        "# Pandas/Shoe\n",
        "df.TotalHands.value_counts(sort = False)"
      ],
      "execution_count": null,
      "outputs": [
        {
          "output_type": "execute_result",
          "data": {
            "text/plain": [
              "68    46736\n",
              "60     2570\n",
              "65    45120\n",
              "64    40671\n",
              "63    31834\n",
              "66    46412\n",
              "72    35018\n",
              "69    46361\n",
              "71    42098\n",
              "70    45469\n",
              "62    19384\n",
              "67    46170\n",
              "73    24051\n",
              "61     8534\n",
              "74    12514\n",
              "75     4862\n",
              "76     1331\n",
              "77      258\n",
              "59      516\n",
              "58       48\n",
              "78       38\n",
              "57        3\n",
              "79        2\n",
              "Name: TotalHands, dtype: int64"
            ]
          },
          "metadata": {},
          "execution_count": 16
        }
      ]
    },
    {
      "cell_type": "code",
      "source": [],
      "metadata": {
        "id": "2LOEQgBIJn19"
      },
      "execution_count": null,
      "outputs": []
    }
  ]
}